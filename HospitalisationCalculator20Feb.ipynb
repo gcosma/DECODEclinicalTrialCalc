{
  "nbformat": 4,
  "nbformat_minor": 0,
  "metadata": {
    "colab": {
      "provenance": [],
      "authorship_tag": "ABX9TyPxXJsW4Q28kk9OJtlYuk74",
      "include_colab_link": true
    },
    "kernelspec": {
      "name": "python3",
      "display_name": "Python 3"
    },
    "language_info": {
      "name": "python"
    }
  },
  "cells": [
    {
      "cell_type": "markdown",
      "metadata": {
        "id": "view-in-github",
        "colab_type": "text"
      },
      "source": [
        "<a href=\"https://colab.research.google.com/github/gcosma/DECODEclinicalTrialCalc/blob/main/HospitalisationCalculator20Feb.ipynb\" target=\"_parent\"><img src=\"https://colab.research.google.com/assets/colab-badge.svg\" alt=\"Open In Colab\"/></a>"
      ]
    },
    {
      "cell_type": "markdown",
      "source": [
        "Hospitalisation clinical calculator - version 20 Feb 2025\n",
        "\n",
        "Summary of overall admissions Admission rates (per 1000 persons per year) by type are shown in Figure 29. The overall rate for adults with ID was 351.6 per 1000 persons per year, compared with 246.4 per 1000 persons per year for controls. This difference was essentially due to the higher rate among emergency admissions (182.2 vs. 67.7 per 1000 persons per year), as elective rates were similar between groups.\" p70, Carey et al (2017)\"\n",
        "\n",
        "\n",
        "Two-sample Poisson Ratio Tests (Equal Sizes)\n",
        "N = 162.264\n",
        "lambda1 = 0.1822\n",
        "lambda2 = 0.0677\n",
        "sig.level = 0.05\n",
        "power = 0.9\n",
        "alternative = two.sided\n"
      ],
      "metadata": {
        "id": "AVdAz4J0YSkH"
      }
    },
    {
      "cell_type": "code",
      "source": [
        "import numpy as np\n",
        "from scipy import stats\n",
        "\n",
        "def calculate_hospitalization_sample_size(rate1_per_1000, rate2_per_1000, group1_name=\"Group 1\", group2_name=\"Group 2\", alpha=0.05, power=0.90, test_type=\"two.sided\"):\n",
        "    \"\"\"\n",
        "    Calculate and display sample size requirements for hospitalization rate comparison\n",
        "    with user-friendly output.\n",
        "    Assumes a normal approximation for Poisson rates.\n",
        "    \"\"\"\n",
        "    # Convert rates to per person-year\n",
        "    lambda1 = rate1_per_1000 / 1000\n",
        "    lambda2 = rate2_per_1000 / 1000\n",
        "\n",
        "    # Calculate sample size using normal approximation for Poisson rates\n",
        "    za = stats.norm.ppf(1 - alpha / 2)  # Two-sided test\n",
        "    zb = stats.norm.ppf(power)\n",
        "    n = ((za + zb)**2 * (lambda1 + lambda2)) / ((lambda1 - lambda2)**2)\n",
        "\n",
        "    # Round up to the nearest integer\n",
        "    n_rounded = int(np.ceil(n))\n",
        "    total_n = n_rounded * 2\n",
        "\n",
        "    # Print user-friendly output\n",
        "    print(\"\\nHospital Admission Study Planning Tool\")\n",
        "    print(\"=\" * 50)\n",
        "\n",
        "    print(\"\\nSTUDY OVERVIEW\")\n",
        "    print(\"-\" * 50)\n",
        "    print(\"This tool helps you plan a study comparing hospital admission rates between two groups.\")\n",
        "    print(\"It will tell you how many people you need to include in your study.\")\n",
        "\n",
        "    print(\"\\nGROUP CHARACTERISTICS\")\n",
        "    print(\"-\" * 50)\n",
        "    print(f\"{group1_name}:\")\n",
        "    print(f\"- Expected admission rate: {rate1_per_1000:.1f} admissions per 1000 people per year\")\n",
        "\n",
        "    print(f\"\\n{group2_name}:\")\n",
        "    print(f\"- Expected admission rate: {rate2_per_1000:.1f} admissions per 1000 people per year\")\n",
        "\n",
        "    print(\"\\nDIFFERENCES BETWEEN GROUPS\")\n",
        "    print(\"-\" * 50)\n",
        "    abs_diff = abs(rate1_per_1000 - rate2_per_1000)  # Absolute difference\n",
        "    rel_risk = rate1_per_1000 / rate2_per_1000 if rate2_per_1000 != 0 else float('inf')  # Relative risk\n",
        "    print(f\"Absolute Difference: {abs_diff:.1f} more admissions per 1000 people per year in {group1_name}\")\n",
        "    print(f\"Relative Difference: {group1_name} has {rel_risk:.1f} times the admission rate of {group2_name}\")\n",
        "\n",
        "    print(\"\\nSTUDY RELIABILITY\")\n",
        "    print(\"-\" * 50)\n",
        "    print(f\"This calculation ensures your study will be:\")\n",
        "    print(f\"- {power * 100:.0f}% likely to detect the expected difference if it exists\")\n",
        "    print(f\"- {(1 - alpha) * 100:.0f}% confident in avoiding false positive results\")\n",
        "\n",
        "    print(\"\\nREQUIRED SAMPLE SIZE\")\n",
        "    print(\"-\" * 50)\n",
        "    print(f\"To achieve these goals, you need:\")\n",
        "    print(f\"- {n_rounded:.0f} people in {group1_name}\")\n",
        "    print(f\"- {n_rounded:.0f} people in {group2_name}\")\n",
        "    print(f\"- {total_n:.0f} people in total\")\n",
        "\n",
        "    print(\"\\nTECHNICAL DETAILS\")\n",
        "    print(\"-\" * 50)\n",
        "    print(\"Statistical Method: Two-sample Poisson Ratio Test (Normal Approximation)\")\n",
        "    print(f\"Sample size (N) = {n:.3f}\")\n",
        "    print(f\"Rates in decimal form: {lambda1:.4f} vs {lambda2:.4f}\")\n",
        "    print(\"Assumes a normal approximation for Poisson rates. Suitable for large rates (λ > 10).\")\n",
        "\n",
        "    return n_rounded\n",
        "\n",
        "# Example usage for emergency admissions\n",
        "emergency_n = calculate_hospitalization_sample_size(\n",
        "    rate1_per_1000=182.2,\n",
        "    rate2_per_1000=67.7,\n",
        "    group1_name=\"ID No Intervention Group\",\n",
        "    group2_name=\"ID Intervention Group\",\n",
        "    alpha=0.05,\n",
        "    power=0.80\n",
        ")"
      ],
      "metadata": {
        "colab": {
          "base_uri": "https://localhost:8080/"
        },
        "id": "czIMizsye-u7",
        "outputId": "f6b036bc-0a20-4578-b2ba-aa32266a8687"
      },
      "execution_count": 21,
      "outputs": [
        {
          "output_type": "stream",
          "name": "stdout",
          "text": [
            "\n",
            "Hospital Admission Study Planning Tool\n",
            "==================================================\n",
            "\n",
            "STUDY OVERVIEW\n",
            "--------------------------------------------------\n",
            "This tool helps you plan a study comparing hospital admission rates between two groups.\n",
            "It will tell you how many people you need to include in your study.\n",
            "\n",
            "GROUP CHARACTERISTICS\n",
            "--------------------------------------------------\n",
            "ID No Intervention Group:\n",
            "- Expected admission rate: 182.2 admissions per 1000 people per year\n",
            "\n",
            "ID Intervention Group:\n",
            "- Expected admission rate: 67.7 admissions per 1000 people per year\n",
            "\n",
            "DIFFERENCES BETWEEN GROUPS\n",
            "--------------------------------------------------\n",
            "Absolute Difference: 114.5 more admissions per 1000 people per year in ID No Intervention Group\n",
            "Relative Difference: ID No Intervention Group has 2.7 times the admission rate of ID Intervention Group\n",
            "\n",
            "STUDY RELIABILITY\n",
            "--------------------------------------------------\n",
            "This calculation ensures your study will be:\n",
            "- 80% likely to detect the expected difference if it exists\n",
            "- 95% confident in avoiding false positive results\n",
            "\n",
            "REQUIRED SAMPLE SIZE\n",
            "--------------------------------------------------\n",
            "To achieve these goals, you need:\n",
            "- 150 people in ID No Intervention Group\n",
            "- 150 people in ID Intervention Group\n",
            "- 300 people in total\n",
            "\n",
            "TECHNICAL DETAILS\n",
            "--------------------------------------------------\n",
            "Statistical Method: Two-sample Poisson Ratio Test (Normal Approximation)\n",
            "Sample size (N) = 149.611\n",
            "Rates in decimal form: 0.1822 vs 0.0677\n",
            "Assumes a normal approximation for Poisson rates. Suitable for large rates (λ > 10).\n"
          ]
        }
      ]
    }
  ]
}